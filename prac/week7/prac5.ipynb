{
 "cells": [
  {
   "cell_type": "markdown",
   "metadata": {},
   "source": [
    "##### INFS\t5102 - Unsupervised\tMethods\tin Analytics\n",
    "### Practical #5: Data Analytics in Python"
   ]
  },
  {
   "cell_type": "markdown",
   "metadata": {},
   "source": [
    "3. Introduction to Python\n"
   ]
  },
  {
   "cell_type": "code",
   "execution_count": 1,
   "metadata": {},
   "outputs": [
    {
     "name": "stdout",
     "output_type": "stream",
     "text": [
      "4 <class 'int'>\n",
      "4.1 <class 'float'>\n",
      "True <class 'bool'>\n",
      "Hello World <class 'str'>\n"
     ]
    }
   ],
   "source": [
    "x = 4 # x is an integer\n",
    "print(x, type(x))\n",
    "\n",
    "y = 4.1 # y is a float\n",
    "print(y, type(y))\n",
    "\n",
    "z = True # z is a boolean\n",
    "print(z, type(z))\n",
    "\n",
    "s = \"Hello World\" # s is a string\n",
    "print(s, type(s))\n",
    "\n"
   ]
  },
  {
   "cell_type": "code",
   "execution_count": 2,
   "metadata": {},
   "outputs": [
    {
     "name": "stdout",
     "output_type": "stream",
     "text": [
      "5 12 2.0 16 2.0 16\n",
      "2.0\n",
      "16.0\n",
      "54.598150033144236\n",
      "2.0\n"
     ]
    }
   ],
   "source": [
    "x=4 # x is an integer\n",
    "x1 = x + 1 # addition\n",
    "x2 = x*3 # multiplication\n",
    "x3 = x/2 # division\n",
    "x4 = x**2 # square\n",
    "x5 = x**0.5 # square root\n",
    "x6 = pow(x,2) # square\n",
    "\n",
    "print(x1, x2, x3, x4, x5, x6)\n",
    "\n",
    "import math\n",
    "y = 4\n",
    "print(math.sqrt(y)) # square root\n",
    "print(math.pow(y,2)) # square\n",
    "print(math.exp(y)) # exponential\n",
    "print(math.log(y,2)) # logarithm"
   ]
  },
  {
   "cell_type": "code",
   "execution_count": 3,
   "metadata": {},
   "outputs": [
    {
     "name": "stdout",
     "output_type": "stream",
     "text": [
      "[1, 2, 3, 4, 5] <class 'list'>\n",
      "1\n",
      "[1, 2]\n",
      "[3, 4, 5]\n",
      "5\n",
      "15\n",
      "[1, 2, 3, 4, 5, 6]\n"
     ]
    }
   ],
   "source": [
    "intlist = [1,2,3,4,5] # integer list\n",
    "print(intlist, type(intlist))\n",
    "\n",
    "print(intlist[0]) # first element \n",
    "print(intlist[:2]) # first two elements\n",
    "print(intlist[2:]) # last two elements\n",
    "\n",
    "print(len(intlist)) # length of list, number of elements\n",
    "print(sum(intlist)) # sum of elements\n",
    "\n",
    "intlist.append(6) # add element to end of list\n",
    "print(intlist)"
   ]
  },
  {
   "cell_type": "code",
   "execution_count": 4,
   "metadata": {},
   "outputs": [
    {
     "name": "stdout",
     "output_type": "stream",
     "text": [
      "x is odd\n",
      "x = 9 x is positive\n"
     ]
    }
   ],
   "source": [
    "# using if-else statements\n",
    "\n",
    "x = 9\n",
    "\n",
    "if x % 2 == 0:\n",
    "    print(\"x is even\")\n",
    "else:\n",
    "    print(\"x is odd\")\n",
    "\n",
    "if x > 0:\n",
    "    print(\"x =\", x, \"x is positive\")\n",
    "elif x < 0:\n",
    "    print(\"x =\", x, \"x is negative\")\n",
    "else:\n",
    "    print(\"x =\", x, \"x is zero\")"
   ]
  },
  {
   "cell_type": "markdown",
   "metadata": {},
   "source": [
    "4. Numpy and Pandas"
   ]
  },
  {
   "cell_type": "code",
   "execution_count": 5,
   "metadata": {},
   "outputs": [
    {
     "name": "stdout",
     "output_type": "stream",
     "text": [
      "[1 2 3 4 5] <class 'numpy.ndarray'>\n",
      "# of dimensions: 1\n",
      "shape: (5,)\n",
      "size: 5\n",
      "[[1 2]\n",
      " [3 4]\n",
      " [5 6]] <class 'numpy.ndarray'>\n",
      "# of dimensions: 2\n",
      "shape: (3, 2)\n",
      "size: 6\n"
     ]
    }
   ],
   "source": [
    "import numpy as np\n",
    "\n",
    "oneDim = np.array([1,2,3,4,5]) # one dimensional array(vector)\n",
    "print(oneDim, type(oneDim))\n",
    "print(\"# of dimensions:\", oneDim.ndim) # number of dimensions\n",
    "print(\"shape:\", oneDim.shape) # shape of array\n",
    "print(\"size:\", oneDim.size) # size of array\n",
    "\n",
    "twoDim = np.array([[1,2],[3,4],[5,6]]) # two dimensional array(matrix)\n",
    "print(twoDim, type(twoDim))\n",
    "print(\"# of dimensions:\", twoDim.ndim) # number of dimensions\n",
    "print(\"shape:\", twoDim.shape) # shape of array\n",
    "print(\"size:\", twoDim.size) # size of array"
   ]
  },
  {
   "cell_type": "code",
   "execution_count": null,
   "metadata": {},
   "outputs": [],
   "source": [
    "import pandas as pd\n",
    "from pd import Series, DataFrame"
   ]
  }
 ],
 "metadata": {
  "kernelspec": {
   "display_name": "Python 3",
   "language": "python",
   "name": "python3"
  },
  "language_info": {
   "codemirror_mode": {
    "name": "ipython",
    "version": 3
   },
   "file_extension": ".py",
   "mimetype": "text/x-python",
   "name": "python",
   "nbconvert_exporter": "python",
   "pygments_lexer": "ipython3",
   "version": "3.11.5"
  },
  "orig_nbformat": 4
 },
 "nbformat": 4,
 "nbformat_minor": 2
}
