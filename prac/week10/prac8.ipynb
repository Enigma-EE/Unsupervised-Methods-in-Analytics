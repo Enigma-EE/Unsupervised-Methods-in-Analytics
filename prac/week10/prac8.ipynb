{
 "cells": [
  {
   "cell_type": "markdown",
   "metadata": {},
   "source": [
    "## Anomaly Detection with Python"
   ]
  },
  {
   "cell_type": "code",
   "execution_count": 1,
   "metadata": {},
   "outputs": [],
   "source": [
    "# import library\n",
    "\n",
    "import numpy as np\n",
    "import matplotlib.pyplot as plt\n",
    "import pandas as pd\n",
    "import seaborn as sns\n"
   ]
  },
  {
   "cell_type": "code",
   "execution_count": 2,
   "metadata": {},
   "outputs": [
    {
     "data": {
      "text/html": [
       "<div>\n",
       "<style scoped>\n",
       "    .dataframe tbody tr th:only-of-type {\n",
       "        vertical-align: middle;\n",
       "    }\n",
       "\n",
       "    .dataframe tbody tr th {\n",
       "        vertical-align: top;\n",
       "    }\n",
       "\n",
       "    .dataframe thead th {\n",
       "        text-align: right;\n",
       "    }\n",
       "</style>\n",
       "<table border=\"1\" class=\"dataframe\">\n",
       "  <thead>\n",
       "    <tr style=\"text-align: right;\">\n",
       "      <th></th>\n",
       "      <th>MSFT</th>\n",
       "      <th>F</th>\n",
       "      <th>BAC</th>\n",
       "    </tr>\n",
       "    <tr>\n",
       "      <th>Date</th>\n",
       "      <th></th>\n",
       "      <th></th>\n",
       "      <th></th>\n",
       "    </tr>\n",
       "  </thead>\n",
       "  <tbody>\n",
       "    <tr>\n",
       "      <th>1/3/2007</th>\n",
       "      <td>29.860001</td>\n",
       "      <td>7.51</td>\n",
       "      <td>53.330002</td>\n",
       "    </tr>\n",
       "    <tr>\n",
       "      <th>1/4/2007</th>\n",
       "      <td>29.809999</td>\n",
       "      <td>7.70</td>\n",
       "      <td>53.669998</td>\n",
       "    </tr>\n",
       "    <tr>\n",
       "      <th>1/5/2007</th>\n",
       "      <td>29.639999</td>\n",
       "      <td>7.62</td>\n",
       "      <td>53.240002</td>\n",
       "    </tr>\n",
       "    <tr>\n",
       "      <th>1/8/2007</th>\n",
       "      <td>29.930000</td>\n",
       "      <td>7.73</td>\n",
       "      <td>53.450001</td>\n",
       "    </tr>\n",
       "    <tr>\n",
       "      <th>1/9/2007</th>\n",
       "      <td>29.959999</td>\n",
       "      <td>7.79</td>\n",
       "      <td>53.500000</td>\n",
       "    </tr>\n",
       "  </tbody>\n",
       "</table>\n",
       "</div>"
      ],
      "text/plain": [
       "               MSFT     F        BAC\n",
       "Date                                \n",
       "1/3/2007  29.860001  7.51  53.330002\n",
       "1/4/2007  29.809999  7.70  53.669998\n",
       "1/5/2007  29.639999  7.62  53.240002\n",
       "1/8/2007  29.930000  7.73  53.450001\n",
       "1/9/2007  29.959999  7.79  53.500000"
      ]
     },
     "execution_count": 2,
     "metadata": {},
     "output_type": "execute_result"
    }
   ],
   "source": [
    "stocks = pd.read_csv('Prac8-data-stocks.csv')\n",
    "# set index to date\n",
    "stocks.index = stocks['Date'] \n",
    "# drop date column\n",
    "stocks.drop(['Date'], axis=1, inplace=True)\n",
    "# print first 5 rows\n",
    "stocks.head()"
   ]
  },
  {
   "cell_type": "markdown",
   "metadata": {},
   "source": [
    "Compute the percentage of changes in the daily closing price of each stock"
   ]
  },
  {
   "cell_type": "code",
   "execution_count": 3,
   "metadata": {},
   "outputs": [
    {
     "data": {
      "text/html": [
       "<div>\n",
       "<style scoped>\n",
       "    .dataframe tbody tr th:only-of-type {\n",
       "        vertical-align: middle;\n",
       "    }\n",
       "\n",
       "    .dataframe tbody tr th {\n",
       "        vertical-align: top;\n",
       "    }\n",
       "\n",
       "    .dataframe thead th {\n",
       "        text-align: right;\n",
       "    }\n",
       "</style>\n",
       "<table border=\"1\" class=\"dataframe\">\n",
       "  <thead>\n",
       "    <tr style=\"text-align: right;\">\n",
       "      <th></th>\n",
       "      <th>MSFT</th>\n",
       "      <th>F</th>\n",
       "      <th>BAC</th>\n",
       "    </tr>\n",
       "    <tr>\n",
       "      <th>Date</th>\n",
       "      <th></th>\n",
       "      <th></th>\n",
       "      <th></th>\n",
       "    </tr>\n",
       "  </thead>\n",
       "  <tbody>\n",
       "    <tr>\n",
       "      <th>1/4/2007</th>\n",
       "      <td>-0.167455</td>\n",
       "      <td>2.529960</td>\n",
       "      <td>0.637532</td>\n",
       "    </tr>\n",
       "    <tr>\n",
       "      <th>1/5/2007</th>\n",
       "      <td>-0.570278</td>\n",
       "      <td>-1.038961</td>\n",
       "      <td>-0.801185</td>\n",
       "    </tr>\n",
       "    <tr>\n",
       "      <th>1/8/2007</th>\n",
       "      <td>0.978411</td>\n",
       "      <td>1.443570</td>\n",
       "      <td>0.394438</td>\n",
       "    </tr>\n",
       "    <tr>\n",
       "      <th>1/9/2007</th>\n",
       "      <td>0.100231</td>\n",
       "      <td>0.776197</td>\n",
       "      <td>0.093543</td>\n",
       "    </tr>\n",
       "    <tr>\n",
       "      <th>1/10/2007</th>\n",
       "      <td>-1.001332</td>\n",
       "      <td>-0.770218</td>\n",
       "      <td>0.149536</td>\n",
       "    </tr>\n",
       "  </tbody>\n",
       "</table>\n",
       "</div>"
      ],
      "text/plain": [
       "               MSFT         F       BAC\n",
       "Date                                   \n",
       "1/4/2007  -0.167455  2.529960  0.637532\n",
       "1/5/2007  -0.570278 -1.038961 -0.801185\n",
       "1/8/2007   0.978411  1.443570  0.394438\n",
       "1/9/2007   0.100231  0.776197  0.093543\n",
       "1/10/2007 -1.001332 -0.770218  0.149536"
      ]
     },
     "execution_count": 3,
     "metadata": {},
     "output_type": "execute_result"
    }
   ],
   "source": [
    "# Extract the dimensions of the stocks DataFrame\n",
    "# N is the number of rows (time points), and D is the number of columns (stock tickers)\n",
    "N, D = stocks.shape \n",
    "\n",
    "# Calculate the day-to-day percentage change for each stock\n",
    "# The calculation is performed by subtracting each day's stock price from the following day's price\n",
    "# This difference is then divided by the initial day's stock price and multiplied by 100\n",
    "delta = pd.DataFrame(100*np.divide(stocks.iloc[1:,:].values - stocks.iloc[:N-1,:].values,\n",
    "                                   stocks.iloc[:N-1,:].values),\n",
    "                      columns=stocks.columns,\n",
    "                      index=stocks.iloc[1:].index)\n",
    "\n",
    "# Print the first 5 rows of the percentage change data\n",
    "delta.head()"
   ]
  },
  {
   "cell_type": "markdown",
   "metadata": {},
   "source": [
    " Pandas' built-in .pct_change() method for calculating percentage change, which automatically handles edge cases and improves code readability."
   ]
  },
  {
   "cell_type": "code",
   "execution_count": 4,
   "metadata": {},
   "outputs": [],
   "source": [
    "# Calculate the day-to-day percentage change using Pandas built-in .pct_change() method\n",
    "# This method automatically handles edge cases and is easier to read\n",
    "delta_best_practices = stocks.pct_change() * 100\n",
    "\n",
    "# Drop the first row as it will have NaN value after percentage change calculation\n",
    "delta_best_practices = delta_best_practices.dropna()\n"
   ]
  },
  {
   "cell_type": "markdown",
   "metadata": {},
   "source": [
    "- k-nearest neighbours (KNN) algorithm to detect anomalies in the stocks' daily closing prices based on the percentage change.\n",
    "- a normal instance is expected to have a small distance to its k-th nearest neighbour, whereas an anomaly is likely to have a large distance to its k-th nearest neighbour."
   ]
  },
  {
   "cell_type": "code",
   "execution_count": 5,
   "metadata": {},
   "outputs": [
    {
     "data": {
      "text/html": [
       "<div>\n",
       "<style scoped>\n",
       "    .dataframe tbody tr th:only-of-type {\n",
       "        vertical-align: middle;\n",
       "    }\n",
       "\n",
       "    .dataframe tbody tr th {\n",
       "        vertical-align: top;\n",
       "    }\n",
       "\n",
       "    .dataframe thead th {\n",
       "        text-align: right;\n",
       "    }\n",
       "</style>\n",
       "<table border=\"1\" class=\"dataframe\">\n",
       "  <thead>\n",
       "    <tr style=\"text-align: right;\">\n",
       "      <th></th>\n",
       "      <th>MSFT</th>\n",
       "      <th>F</th>\n",
       "      <th>BAC</th>\n",
       "      <th>anomaly_score</th>\n",
       "    </tr>\n",
       "    <tr>\n",
       "      <th>Date</th>\n",
       "      <th></th>\n",
       "      <th></th>\n",
       "      <th></th>\n",
       "      <th></th>\n",
       "    </tr>\n",
       "  </thead>\n",
       "  <tbody>\n",
       "    <tr>\n",
       "      <th>10/13/2008</th>\n",
       "      <td>18.604651</td>\n",
       "      <td>20.100503</td>\n",
       "      <td>9.199808</td>\n",
       "      <td>15.642827</td>\n",
       "    </tr>\n",
       "    <tr>\n",
       "      <th>11/26/2008</th>\n",
       "      <td>2.501251</td>\n",
       "      <td>29.518072</td>\n",
       "      <td>4.256757</td>\n",
       "      <td>14.212749</td>\n",
       "    </tr>\n",
       "    <tr>\n",
       "      <th>10/7/2008</th>\n",
       "      <td>-6.744279</td>\n",
       "      <td>-20.867209</td>\n",
       "      <td>-26.225949</td>\n",
       "      <td>13.751302</td>\n",
       "    </tr>\n",
       "    <tr>\n",
       "      <th>11/28/2008</th>\n",
       "      <td>-1.317721</td>\n",
       "      <td>25.116279</td>\n",
       "      <td>5.314323</td>\n",
       "      <td>13.139586</td>\n",
       "    </tr>\n",
       "    <tr>\n",
       "      <th>9/30/2008</th>\n",
       "      <td>6.717317</td>\n",
       "      <td>24.700240</td>\n",
       "      <td>15.702479</td>\n",
       "      <td>12.599739</td>\n",
       "    </tr>\n",
       "  </tbody>\n",
       "</table>\n",
       "</div>"
      ],
      "text/plain": [
       "                 MSFT          F        BAC  anomaly_score\n",
       "Date                                                      \n",
       "10/13/2008  18.604651  20.100503   9.199808      15.642827\n",
       "11/26/2008   2.501251  29.518072   4.256757      14.212749\n",
       "10/7/2008   -6.744279 -20.867209 -26.225949      13.751302\n",
       "11/28/2008  -1.317721  25.116279   5.314323      13.139586\n",
       "9/30/2008    6.717317  24.700240  15.702479      12.599739"
      ]
     },
     "execution_count": 5,
     "metadata": {},
     "output_type": "execute_result"
    }
   ],
   "source": [
    "# Importing the NearestNeighbors class from scikit-learn\n",
    "# Importing the distance module from scipy.spatial\n",
    "from sklearn.neighbors import NearestNeighbors\n",
    "from scipy.spatial import distance    \n",
    "\n",
    "# Number of nearest neighbors to consider for anomaly detection\n",
    "knn = 4\n",
    "\n",
    "# Initialize the NearestNeighbors class with k neighbors and Euclidean distance as the metric\n",
    "# Fit the model on the delta DataFrame converted to NumPy array\n",
    "nbrs = NearestNeighbors(n_neighbors=knn, metric=distance.euclidean).fit(delta.to_numpy())\n",
    "\n",
    "# Use the kneighbors method to find k nearest neighbors for each data point in delta\n",
    "# distances contains the distances to k nearest neighbors\n",
    "# indices contains the indices of k nearest neighbors\n",
    "distances, indices = nbrs.kneighbors(delta.to_numpy())\n",
    "\n",
    "# Calculate the anomaly score based on the distance to the kth nearest neighbor\n",
    "anomaly_score = distances[:, knn-1]\n",
    "\n",
    "# Create a new DataFrame to store the anomaly scores, using delta's index\n",
    "anom = pd.DataFrame(anomaly_score, index=delta.index, columns=['anomaly_score'])\n",
    "\n",
    "# Concatenate the original delta DataFrame with the anomaly score DataFrame along axis 1 (columns)\n",
    "result = pd.concat([delta, anom], axis=1)\n",
    "\n",
    "# Display the top 5 rows with the largest anomaly scores\n",
    "result.nlargest(5, 'anomaly_score')\n"
   ]
  },
  {
   "cell_type": "code",
   "execution_count": null,
   "metadata": {},
   "outputs": [],
   "source": []
  },
  {
   "cell_type": "code",
   "execution_count": null,
   "metadata": {},
   "outputs": [],
   "source": []
  },
  {
   "cell_type": "code",
   "execution_count": null,
   "metadata": {},
   "outputs": [],
   "source": []
  },
  {
   "cell_type": "code",
   "execution_count": null,
   "metadata": {},
   "outputs": [],
   "source": []
  }
 ],
 "metadata": {
  "kernelspec": {
   "display_name": "Python 3",
   "language": "python",
   "name": "python3"
  },
  "language_info": {
   "codemirror_mode": {
    "name": "ipython",
    "version": 3
   },
   "file_extension": ".py",
   "mimetype": "text/x-python",
   "name": "python",
   "nbconvert_exporter": "python",
   "pygments_lexer": "ipython3",
   "version": "3.8.5"
  }
 },
 "nbformat": 4,
 "nbformat_minor": 2
}
